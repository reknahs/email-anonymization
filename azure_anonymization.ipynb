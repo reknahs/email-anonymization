{
  "nbformat": 4,
  "nbformat_minor": 0,
  "metadata": {
    "colab": {
      "provenance": [],
      "authorship_tag": "ABX9TyOlziTprFaS4zZGd0UfT9Bv",
      "include_colab_link": true
    },
    "kernelspec": {
      "name": "python3",
      "display_name": "Python 3"
    },
    "language_info": {
      "name": "python"
    }
  },
  "cells": [
    {
      "cell_type": "markdown",
      "metadata": {
        "id": "view-in-github",
        "colab_type": "text"
      },
      "source": [
        "<a href=\"https://colab.research.google.com/github/reknahs/email-anonymization/blob/main/azure_anonymization.ipynb\" target=\"_parent\"><img src=\"https://colab.research.google.com/assets/colab-badge.svg\" alt=\"Open In Colab\"/></a>"
      ]
    },
    {
      "cell_type": "code",
      "source": [
        "!pip install openai\n",
        "!pip install tiktoken"
      ],
      "metadata": {
        "colab": {
          "base_uri": "https://localhost:8080/"
        },
        "id": "CeYVTxvEB13V",
        "outputId": "fba8cf49-9c9f-446a-e8ba-918be80c081e"
      },
      "execution_count": null,
      "outputs": [
        {
          "output_type": "stream",
          "name": "stdout",
          "text": [
            "Collecting openai\n",
            "  Downloading openai-1.35.3-py3-none-any.whl (327 kB)\n",
            "\u001b[2K     \u001b[90m━━━━━━━━━━━━━━━━━━━━━━━━━━━━━━━━━━━━━━━━\u001b[0m \u001b[32m327.4/327.4 kB\u001b[0m \u001b[31m5.4 MB/s\u001b[0m eta \u001b[36m0:00:00\u001b[0m\n",
            "\u001b[?25hRequirement already satisfied: anyio<5,>=3.5.0 in /usr/local/lib/python3.10/dist-packages (from openai) (3.7.1)\n",
            "Requirement already satisfied: distro<2,>=1.7.0 in /usr/lib/python3/dist-packages (from openai) (1.7.0)\n",
            "Collecting httpx<1,>=0.23.0 (from openai)\n",
            "  Downloading httpx-0.27.0-py3-none-any.whl (75 kB)\n",
            "\u001b[2K     \u001b[90m━━━━━━━━━━━━━━━━━━━━━━━━━━━━━━━━━━━━━━━━\u001b[0m \u001b[32m75.6/75.6 kB\u001b[0m \u001b[31m5.0 MB/s\u001b[0m eta \u001b[36m0:00:00\u001b[0m\n",
            "\u001b[?25hRequirement already satisfied: pydantic<3,>=1.9.0 in /usr/local/lib/python3.10/dist-packages (from openai) (2.7.4)\n",
            "Requirement already satisfied: sniffio in /usr/local/lib/python3.10/dist-packages (from openai) (1.3.1)\n",
            "Requirement already satisfied: tqdm>4 in /usr/local/lib/python3.10/dist-packages (from openai) (4.66.4)\n",
            "Requirement already satisfied: typing-extensions<5,>=4.7 in /usr/local/lib/python3.10/dist-packages (from openai) (4.12.2)\n",
            "Requirement already satisfied: idna>=2.8 in /usr/local/lib/python3.10/dist-packages (from anyio<5,>=3.5.0->openai) (3.7)\n",
            "Requirement already satisfied: exceptiongroup in /usr/local/lib/python3.10/dist-packages (from anyio<5,>=3.5.0->openai) (1.2.1)\n",
            "Requirement already satisfied: certifi in /usr/local/lib/python3.10/dist-packages (from httpx<1,>=0.23.0->openai) (2024.6.2)\n",
            "Collecting httpcore==1.* (from httpx<1,>=0.23.0->openai)\n",
            "  Downloading httpcore-1.0.5-py3-none-any.whl (77 kB)\n",
            "\u001b[2K     \u001b[90m━━━━━━━━━━━━━━━━━━━━━━━━━━━━━━━━━━━━━━━━\u001b[0m \u001b[32m77.9/77.9 kB\u001b[0m \u001b[31m5.1 MB/s\u001b[0m eta \u001b[36m0:00:00\u001b[0m\n",
            "\u001b[?25hCollecting h11<0.15,>=0.13 (from httpcore==1.*->httpx<1,>=0.23.0->openai)\n",
            "  Downloading h11-0.14.0-py3-none-any.whl (58 kB)\n",
            "\u001b[2K     \u001b[90m━━━━━━━━━━━━━━━━━━━━━━━━━━━━━━━━━━━━━━━━\u001b[0m \u001b[32m58.3/58.3 kB\u001b[0m \u001b[31m7.0 MB/s\u001b[0m eta \u001b[36m0:00:00\u001b[0m\n",
            "\u001b[?25hRequirement already satisfied: annotated-types>=0.4.0 in /usr/local/lib/python3.10/dist-packages (from pydantic<3,>=1.9.0->openai) (0.7.0)\n",
            "Requirement already satisfied: pydantic-core==2.18.4 in /usr/local/lib/python3.10/dist-packages (from pydantic<3,>=1.9.0->openai) (2.18.4)\n",
            "Installing collected packages: h11, httpcore, httpx, openai\n",
            "Successfully installed h11-0.14.0 httpcore-1.0.5 httpx-0.27.0 openai-1.35.3\n",
            "Collecting tiktoken\n",
            "  Downloading tiktoken-0.7.0-cp310-cp310-manylinux_2_17_x86_64.manylinux2014_x86_64.whl (1.1 MB)\n",
            "\u001b[2K     \u001b[90m━━━━━━━━━━━━━━━━━━━━━━━━━━━━━━━━━━━━━━━━\u001b[0m \u001b[32m1.1/1.1 MB\u001b[0m \u001b[31m10.7 MB/s\u001b[0m eta \u001b[36m0:00:00\u001b[0m\n",
            "\u001b[?25hRequirement already satisfied: regex>=2022.1.18 in /usr/local/lib/python3.10/dist-packages (from tiktoken) (2024.5.15)\n",
            "Requirement already satisfied: requests>=2.26.0 in /usr/local/lib/python3.10/dist-packages (from tiktoken) (2.31.0)\n",
            "Requirement already satisfied: charset-normalizer<4,>=2 in /usr/local/lib/python3.10/dist-packages (from requests>=2.26.0->tiktoken) (3.3.2)\n",
            "Requirement already satisfied: idna<4,>=2.5 in /usr/local/lib/python3.10/dist-packages (from requests>=2.26.0->tiktoken) (3.7)\n",
            "Requirement already satisfied: urllib3<3,>=1.21.1 in /usr/local/lib/python3.10/dist-packages (from requests>=2.26.0->tiktoken) (2.0.7)\n",
            "Requirement already satisfied: certifi>=2017.4.17 in /usr/local/lib/python3.10/dist-packages (from requests>=2.26.0->tiktoken) (2024.6.2)\n",
            "Installing collected packages: tiktoken\n",
            "Successfully installed tiktoken-0.7.0\n"
          ]
        }
      ]
    },
    {
      "cell_type": "code",
      "source": [
        "from google.colab import drive\n",
        "drive.mount(\"/content/drive\")"
      ],
      "metadata": {
        "id": "yS0HVsyEqvQh",
        "colab": {
          "base_uri": "https://localhost:8080/"
        },
        "outputId": "e478fa7b-1a1e-4a64-e485-0cf8d427bd07"
      },
      "execution_count": null,
      "outputs": [
        {
          "output_type": "stream",
          "name": "stdout",
          "text": [
            "Mounted at /content/drive\n"
          ]
        }
      ]
    },
    {
      "cell_type": "code",
      "source": [
        "%%capture\n",
        "from google.colab import userdata\n",
        "API_VERSION = userdata.get('API_VERSION')\n",
        "API_KEY = userdata.get('API_KEY')\n",
        "AZURE_ENDPOINT = userdata.get('AZURE_ENDPOINT')\n",
        "DEPLOYMENT_NAME = userdata.get('DEPLOYMENT_NAME')"
      ],
      "metadata": {
        "id": "yqXuXyPdct04"
      },
      "execution_count": null,
      "outputs": []
    },
    {
      "cell_type": "code",
      "source": [
        "# Function to count tokens using tiktoken\n",
        "def count_tokens(prompt: str, model: str = \"gpt-3.5-turbo\") -> int:\n",
        "    encoding = tiktoken.encoding_for_model(model)\n",
        "    tokens = encoding.encode(prompt)\n",
        "    return len(tokens)"
      ],
      "metadata": {
        "id": "F9Gncv25cv56"
      },
      "execution_count": null,
      "outputs": []
    },
    {
      "cell_type": "code",
      "source": [
        "import email\n",
        "from email import policy\n",
        "from email.parser import BytesParser\n",
        "import time\n",
        "\n",
        "beg = time.time()\n",
        "\n",
        "# Path to your .eml file\n",
        "eml_file_path = '/content/drive/MyDrive/emails/emailreturn1.eml'\n",
        "# eml_file_path = '/content/drive/MyDrive/emails/emailreturn2.eml'\n",
        "# eml_file_path = '/content/drive/MyDrive/emails/emailreturn3.eml'\n",
        "# eml_file_path = '/content/drive/MyDrive/emails/emailreturn4.eml'\n",
        "\n",
        "# Read the .eml file\n",
        "with open(eml_file_path, 'rb') as f:\n",
        "    msg = BytesParser(policy=policy.default).parse(f)\n",
        "\n",
        "# Extract subject\n",
        "subject = msg['subject']\n",
        "print('Subject:', subject)\n",
        "\n",
        "# Extract body (both plain text and HTML)\n",
        "body = \"\"\n",
        "if msg.is_multipart():\n",
        "    for part in msg.iter_parts():\n",
        "        content_type = part.get_content_type()\n",
        "        content_disposition = str(part.get('Content-Disposition'))\n",
        "\n",
        "        # Look for plain text parts\n",
        "        if content_type == 'text/plain' and 'attachment' not in content_disposition:\n",
        "            body = part.get_payload(decode=True).decode(part.get_content_charset())\n",
        "            break\n",
        "        # Look for HTML parts\n",
        "        elif content_type == 'text/html' and 'attachment' not in content_disposition:\n",
        "            body = part.get_payload(decode=True).decode(part.get_content_charset())\n",
        "            break\n",
        "else:\n",
        "    # If the message isn't multipart, the payload is simple text\n",
        "    body = msg.get_payload(decode=True).decode(msg.get_content_charset())\n",
        "\n",
        "import os\n",
        "from openai import AzureOpenAI\n",
        "import tiktoken\n",
        "\n",
        "client = AzureOpenAI(\n",
        "    api_key=API_KEY,\n",
        "    api_version=API_VERSION,\n",
        "    azure_endpoint = AZURE_ENDPOINT\n",
        "    )\n",
        "\n",
        "deployment_name= DEPLOYMENT_NAME\n",
        "\n",
        "# Send a completion call to generate an answer\n",
        "prompt = body\n",
        "content = '''\n",
        "Your job is to output a given email but after swapping ONLY PII with fake info. PII is anything that can give away someone's identity.\n",
        "\n",
        "For example, you should REPLACE ALL instances of the following for the CUSTOMER ONLY:\n",
        "-Name\n",
        "-Billing/shipping address\n",
        "-Phone number\n",
        "-Email address\n",
        "-Order number\n",
        "-Any portion of credit card number\n",
        "\n",
        "Replace the above with fake names/addresses/phone numbers/emails/order numbers/credit card numbers/etc. Delete all links. Do not change dollar amounts.\n",
        "Example:\n",
        "\n",
        "Input:\n",
        "Hi James,\n",
        "\n",
        "We'd like to confirm your order (Order number: 6823) to the 8523 Main St. San Francisco, CA 92356.\n",
        "Paid with Mastercard ending in 9823.\n",
        "\n",
        "Example of your output:\n",
        "Hi Stephen,\n",
        "\n",
        "We'd like to confirm your order (Order number: 9866) to the 1323 Oak St. Orlando, FL 12235.\n",
        "Paid with Mastercard ending in 0912.\n",
        "'''\n",
        "start = time.time()\n",
        "response = client.chat.completions.create(\n",
        "    model=deployment_name,\n",
        "    messages=[{\"role\": \"system\", \"content\": content},\n",
        "              {\"role\": \"user\", \"content\": prompt}\n",
        "              ]\n",
        ")\n",
        "end = time.time()\n",
        "print(\"API call: \", end-start)\n",
        "print(\"Total: \", end-beg)\n",
        "print(\"Tokens: \", count_tokens(content+prompt))\n",
        "print(response.choices[0].message)"
      ],
      "metadata": {
        "colab": {
          "base_uri": "https://localhost:8080/"
        },
        "id": "o1cboWr-IpJ8",
        "outputId": "b3c910fb-629e-413e-ab27-6b3e319f1eb6"
      },
      "execution_count": null,
      "outputs": [
        {
          "output_type": "stream",
          "name": "stdout",
          "text": [
            "Subject: Subject: Flip It and Reverse It (Refund On The Way)\n",
            "API call:  2.8960280418395996\n",
            "Total:  3.389348268508911\n",
            "Tokens:  527\n",
            "ChatCompletionMessage(content=\"Hi Raj,\\nWe've refunded your order for $110.00 USD. Heads up: while the refund is immediate on our end, it can take a few days for your bank to process.\\nOrder 523242542\\n1 Women's Wool Runners - Navy Blue (Cream Sole) - 9\\t$110.00\\nSubtotal\\t$110.00\\nFast Shipping (Delivered in 3-5 Business Days)\\t$6.00\\nTotal\\t$116.00\\n(Paid with Visa...7363)\\t$116.00\\nRefund to Visa...7363\\t- $110.00\\n\\t\\t\\nHELP\\tCONTACT US\\t1.888.963.8944\\n\\t\\t\\t\\n© 2023 Allbirds, Inc.\\n730 Montgomery St. San Francisco, CA 94111\", role='assistant', function_call=None, tool_calls=None)\n"
          ]
        }
      ]
    },
    {
      "cell_type": "code",
      "source": [
        "print(count_tokens(prompt))"
      ],
      "metadata": {
        "colab": {
          "base_uri": "https://localhost:8080/"
        },
        "id": "OoxrjDZXZ1Rg",
        "outputId": "fadb5285-f84a-4929-abf0-c70164f18e83"
      },
      "execution_count": null,
      "outputs": [
        {
          "output_type": "stream",
          "name": "stdout",
          "text": [
            "323\n"
          ]
        }
      ]
    },
    {
      "cell_type": "code",
      "source": [
        "print(response.choices[0].message.content)"
      ],
      "metadata": {
        "id": "aS9pxTHXDviL",
        "colab": {
          "base_uri": "https://localhost:8080/"
        },
        "outputId": "1bf801bb-3401-43c7-9d60-a4ace0ebcc57"
      },
      "execution_count": null,
      "outputs": [
        {
          "output_type": "stream",
          "name": "stdout",
          "text": [
            "Hi Raj,\n",
            "We've refunded your order for $110.00 USD. Heads up: while the refund is immediate on our end, it can take a few days for your bank to process.\n",
            "Order 523242542\n",
            "1 Women's Wool Runners - Navy Blue (Cream Sole) - 9\t$110.00\n",
            "Subtotal\t$110.00\n",
            "Fast Shipping (Delivered in 3-5 Business Days)\t$6.00\n",
            "Total\t$116.00\n",
            "(Paid with Visa...7363)\t$116.00\n",
            "Refund to Visa...7363\t- $110.00\n",
            "\t\t\n",
            "HELP\tCONTACT US\t1.888.963.8944\n",
            "\t\t\t\n",
            "© 2023 Allbirds, Inc.\n",
            "730 Montgomery St. San Francisco, CA 94111\n"
          ]
        }
      ]
    },
    {
      "cell_type": "code",
      "source": [
        "print(body)"
      ],
      "metadata": {
        "colab": {
          "base_uri": "https://localhost:8080/"
        },
        "id": "mGkFMz4sIaDd",
        "outputId": "fdc7f2fe-45a1-4eb8-c8ff-80f88af9e9e2"
      },
      "execution_count": null,
      "outputs": [
        {
          "output_type": "stream",
          "name": "stdout",
          "text": [
            "Hi Rohan,\n",
            "We've refunded your order for $110.00 USD. Heads up: while the refund is immediate on our end, it can take a few days for your bank to process.\n",
            "Order 649594665 <https://www.allbirds.com/11044168/orders/5c3c2ad86013c7f694c91b6e754ca11e/authenticate?key=c8dd6330d211f5f96f23357eab2414e5?utm_source=email-t&amp;utm_medium=email&amp;utm_campaign=orefund> \n",
            " <https://cdn.shopify.com/s/files/1/1104/4168/products/WR3MDPG_SHOE_ANGLE_GLOBAL_MENS_WOOL_RUNNER_DAPPLE_GREY_CREAM_81817d0e-7018-4c5c-9f46-8495e51b6cbd_100x80_crop_left.png?v=1679676212> \t1 Women's Wool Runners - Dapple Grey (Cream Sole) - 9\t$110.00\n",
            "Subtotal\t$110.00\n",
            "Fast Shipping (Delivered in 3-5 Business Days)\t$6.00\n",
            "Total\t$116.00\n",
            "(Paid with Visa...3584)\t$116.00\n",
            "Refund to Visa...3584\t- $110.00\n",
            "\t\t\n",
            "HELP\tCONTACT US\t1.888.963.8944\n",
            "\t\t\t\n",
            "© 2023 Allbirds, Inc.\n",
            "730 Montgomery St. San Francisco, CA 94111\n",
            "\n",
            "\n"
          ]
        }
      ]
    }
  ]
}