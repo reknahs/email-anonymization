{
  "nbformat": 4,
  "nbformat_minor": 0,
  "metadata": {
    "colab": {
      "provenance": [],
      "authorship_tag": "ABX9TyMn2A6rhwbYdNgXQ9w06JzR",
      "include_colab_link": true
    },
    "kernelspec": {
      "name": "python3",
      "display_name": "Python 3"
    },
    "language_info": {
      "name": "python"
    }
  },
  "cells": [
    {
      "cell_type": "markdown",
      "metadata": {
        "id": "view-in-github",
        "colab_type": "text"
      },
      "source": [
        "<a href=\"https://colab.research.google.com/github/reknahs/email-anonymization/blob/main/azure_anonymization.ipynb\" target=\"_parent\"><img src=\"https://colab.research.google.com/assets/colab-badge.svg\" alt=\"Open In Colab\"/></a>"
      ]
    },
    {
      "cell_type": "code",
      "source": [
        "!pip install openai"
      ],
      "metadata": {
        "colab": {
          "base_uri": "https://localhost:8080/"
        },
        "id": "CeYVTxvEB13V",
        "outputId": "dd69821a-5c64-4af1-e2d1-603c712b997b"
      },
      "execution_count": null,
      "outputs": [
        {
          "output_type": "stream",
          "name": "stdout",
          "text": [
            "Collecting openai\n",
            "  Downloading openai-1.34.0-py3-none-any.whl (325 kB)\n",
            "\u001b[2K     \u001b[90m━━━━━━━━━━━━━━━━━━━━━━━━━━━━━━━━━━━━━━━━\u001b[0m \u001b[32m325.5/325.5 kB\u001b[0m \u001b[31m3.8 MB/s\u001b[0m eta \u001b[36m0:00:00\u001b[0m\n",
            "\u001b[?25hRequirement already satisfied: anyio<5,>=3.5.0 in /usr/local/lib/python3.10/dist-packages (from openai) (3.7.1)\n",
            "Requirement already satisfied: distro<2,>=1.7.0 in /usr/lib/python3/dist-packages (from openai) (1.7.0)\n",
            "Collecting httpx<1,>=0.23.0 (from openai)\n",
            "  Downloading httpx-0.27.0-py3-none-any.whl (75 kB)\n",
            "\u001b[2K     \u001b[90m━━━━━━━━━━━━━━━━━━━━━━━━━━━━━━━━━━━━━━━━\u001b[0m \u001b[32m75.6/75.6 kB\u001b[0m \u001b[31m3.3 MB/s\u001b[0m eta \u001b[36m0:00:00\u001b[0m\n",
            "\u001b[?25hRequirement already satisfied: pydantic<3,>=1.9.0 in /usr/local/lib/python3.10/dist-packages (from openai) (2.7.3)\n",
            "Requirement already satisfied: sniffio in /usr/local/lib/python3.10/dist-packages (from openai) (1.3.1)\n",
            "Requirement already satisfied: tqdm>4 in /usr/local/lib/python3.10/dist-packages (from openai) (4.66.4)\n",
            "Requirement already satisfied: typing-extensions<5,>=4.7 in /usr/local/lib/python3.10/dist-packages (from openai) (4.12.2)\n",
            "Requirement already satisfied: idna>=2.8 in /usr/local/lib/python3.10/dist-packages (from anyio<5,>=3.5.0->openai) (3.7)\n",
            "Requirement already satisfied: exceptiongroup in /usr/local/lib/python3.10/dist-packages (from anyio<5,>=3.5.0->openai) (1.2.1)\n",
            "Requirement already satisfied: certifi in /usr/local/lib/python3.10/dist-packages (from httpx<1,>=0.23.0->openai) (2024.6.2)\n",
            "Collecting httpcore==1.* (from httpx<1,>=0.23.0->openai)\n",
            "  Downloading httpcore-1.0.5-py3-none-any.whl (77 kB)\n",
            "\u001b[2K     \u001b[90m━━━━━━━━━━━━━━━━━━━━━━━━━━━━━━━━━━━━━━━━\u001b[0m \u001b[32m77.9/77.9 kB\u001b[0m \u001b[31m4.7 MB/s\u001b[0m eta \u001b[36m0:00:00\u001b[0m\n",
            "\u001b[?25hCollecting h11<0.15,>=0.13 (from httpcore==1.*->httpx<1,>=0.23.0->openai)\n",
            "  Downloading h11-0.14.0-py3-none-any.whl (58 kB)\n",
            "\u001b[2K     \u001b[90m━━━━━━━━━━━━━━━━━━━━━━━━━━━━━━━━━━━━━━━━\u001b[0m \u001b[32m58.3/58.3 kB\u001b[0m \u001b[31m3.4 MB/s\u001b[0m eta \u001b[36m0:00:00\u001b[0m\n",
            "\u001b[?25hRequirement already satisfied: annotated-types>=0.4.0 in /usr/local/lib/python3.10/dist-packages (from pydantic<3,>=1.9.0->openai) (0.7.0)\n",
            "Requirement already satisfied: pydantic-core==2.18.4 in /usr/local/lib/python3.10/dist-packages (from pydantic<3,>=1.9.0->openai) (2.18.4)\n",
            "Installing collected packages: h11, httpcore, httpx, openai\n",
            "Successfully installed h11-0.14.0 httpcore-1.0.5 httpx-0.27.0 openai-1.34.0\n"
          ]
        }
      ]
    },
    {
      "cell_type": "code",
      "source": [
        "from google.colab import drive\n",
        "drive.mount(\"/content/drive\")"
      ],
      "metadata": {
        "id": "yS0HVsyEqvQh",
        "colab": {
          "base_uri": "https://localhost:8080/"
        },
        "outputId": "cd41c758-7b73-43b1-f16d-77ab960de42c"
      },
      "execution_count": null,
      "outputs": [
        {
          "output_type": "stream",
          "name": "stdout",
          "text": [
            "Mounted at /content/drive\n"
          ]
        }
      ]
    },
    {
      "cell_type": "code",
      "source": [
        "import email\n",
        "from email import policy\n",
        "from email.parser import BytesParser\n",
        "\n",
        "# Path to your .eml file\n",
        "eml_file_path = '/content/drive/MyDrive/emails/emailreturn1.eml'\n",
        "# eml_file_path = '/content/drive/MyDrive/emails/emailreturn2.eml'\n",
        "# eml_file_path = '/content/drive/MyDrive/emails/emailreturn3.eml'\n",
        "# eml_file_path = '/content/drive/MyDrive/emails/emailreturn4.eml'\n",
        "\n",
        "# Read the .eml file\n",
        "with open(eml_file_path, 'rb') as f:\n",
        "    msg = BytesParser(policy=policy.default).parse(f)\n",
        "\n",
        "# Extract subject\n",
        "subject = msg['subject']\n",
        "print('Subject:', subject)\n",
        "\n",
        "# Extract body (both plain text and HTML)\n",
        "body = \"\"\n",
        "if msg.is_multipart():\n",
        "    for part in msg.iter_parts():\n",
        "        content_type = part.get_content_type()\n",
        "        content_disposition = str(part.get('Content-Disposition'))\n",
        "\n",
        "        # Look for plain text parts\n",
        "        if content_type == 'text/plain' and 'attachment' not in content_disposition:\n",
        "            body = part.get_payload(decode=True).decode(part.get_content_charset())\n",
        "            break\n",
        "        # Look for HTML parts\n",
        "        elif content_type == 'text/html' and 'attachment' not in content_disposition:\n",
        "            body = part.get_payload(decode=True).decode(part.get_content_charset())\n",
        "            break\n",
        "else:\n",
        "    # If the message isn't multipart, the payload is simple text\n",
        "    body = msg.get_payload(decode=True).decode(msg.get_content_charset())"
      ],
      "metadata": {
        "colab": {
          "base_uri": "https://localhost:8080/"
        },
        "id": "o1cboWr-IpJ8",
        "outputId": "bbc86e7b-fe3a-45e6-ff19-20d050f057af"
      },
      "execution_count": null,
      "outputs": [
        {
          "output_type": "stream",
          "name": "stdout",
          "text": [
            "Subject: Subject: Flip It and Reverse It (Refund On The Way)\n"
          ]
        }
      ]
    },
    {
      "cell_type": "code",
      "source": [
        "%%capture\n",
        "from google.colab import userdata\n",
        "userdata.get('API_VERSION')\n",
        "userdata.get('API_KEY')\n",
        "userdata.get('AZURE_ENDPOINT')\n",
        "userdata.get('DEPLOYMENT_NAME')"
      ],
      "metadata": {
        "collapsed": true,
        "id": "-zk5pZkwB-Wk"
      },
      "execution_count": 53,
      "outputs": []
    },
    {
      "cell_type": "code",
      "execution_count": null,
      "metadata": {
        "colab": {
          "base_uri": "https://localhost:8080/"
        },
        "id": "11F9gcgrBueC",
        "outputId": "218777ba-3934-4d6d-97ed-4960bd024816"
      },
      "outputs": [
        {
          "output_type": "stream",
          "name": "stdout",
          "text": [
            "ChatCompletionMessage(content=\"Hi John,\\n\\nWe've refunded your order for $110.00 USD. Heads up: while the refund is immediate on our end, it can take a few days for your bank to process.\\nOrder 4658941864\\n1 Women's Wool Runners - Dapple Grey (Cream Sole) - 9\\t$110.00\\nSubtotal\\t$110.00\\nFast Shipping (Delivered in 3-5 Business Days)\\t$6.00\\nTotal\\t$116.00\\n(Paid with Visa...9384)\\t$116.00\\nRefund to Visa...9384\\t- $110.00\\n\\t\\t\\nHELP\\tCONTACT US\\t1.800.123.4567\\n\\t\\t\\t\\n© 2023 Allbirds, Inc.\\n730 Montgomery St. San Francisco, CA 94111\", role='assistant', function_call=None, tool_calls=None)\n"
          ]
        }
      ],
      "source": [
        "import os\n",
        "from openai import AzureOpenAI\n",
        "\n",
        "client = AzureOpenAI(\n",
        "    api_key=\"c0ad78be7a5d4cd0a50c6a4321b0f593\",\n",
        "    api_version=\"2024-03-01-preview\",\n",
        "    azure_endpoint = \"https://iomd-test-openai.openai.azure.com/\"\n",
        "    )\n",
        "\n",
        "deployment_name='gpt-35-turbo' #This will correspond to the custom name you chose for your deployment when you deployed a model. Use a gpt-35-turbo-instruct deployment.\n",
        "\n",
        "# Send a completion call to generate an answer\n",
        "prompt = 'Output this email body after replacing ALL PII with placeholder info: '+body\n",
        "content = '''\n",
        "You are an anonymizer of emails. Given an email's body, your job is to output the same email but after replacing ALL Personal Identifiable Information (PII) with placeholder/fake info. PII is any info that permits the identity of an individual to whom the information applies to be reasonably inferred by either direct or indirect means.\n",
        "\n",
        "You should REPLACE ALL instances of the following for the CUSTOMER ONLY:\n",
        "-One's name\n",
        "-One's billing/shipping address\n",
        "-One's phone number\n",
        "-One's email address\n",
        "-One's order number\n",
        "-One's username\n",
        "-Any portion of one's credit card number\n",
        "-One's ip address.\n",
        "\n",
        "Somethings that should NOT be replaced are:\n",
        "-The name of the item bought or refunded\n",
        "-The number of items bought or refunded\n",
        "-The email, phone number, address, or name of the COMPANY\n",
        "-The cost of the items\n",
        "\n",
        "Replace the info with fake names/addresses/phone numbers/emails/order numbers/credit card numbers/etc. Make sure to not remove any info that does not correspond to the person being emailed.\n",
        "In addition, all links should be deleted entirely.\n",
        "Here is an example of the converting process you should use for an email:\n",
        "\n",
        "Input:\n",
        "Hi James,\n",
        "\n",
        "We'd like to confirm your order of 5 pairs of shorts (Order number: 6823) to the address 8523 Main St. San Francisco, CA 92356.\n",
        "We have sent this email to both your email: jamessmith@gmail.com and your phone number 882-235-2362.\n",
        "Paid with Mastercard ending in 9823.\n",
        "\n",
        "CONTACT US:\n",
        "1-235-225-9323\n",
        "235 2nd St. San Francisco, CA 92356\n",
        "\n",
        "Example of your output:\n",
        "Hi Stephen,\n",
        "\n",
        "We'd like to confirm your order of 5 pairs of shorts (Order number: 9866) to the address 1323 Oak St. Orlando, FL 12235.\n",
        "We have sent this email to both your email: stephencur2@gmail.com and your phone number 122-003-2123.\n",
        "Paid with Mastercard ending in 0912.\n",
        "\n",
        "CONTACT US:\n",
        "1-235-225-9323\n",
        "235 2nd St. San Francisco, CA 92356\n",
        "'''\n",
        "response = client.chat.completions.create(\n",
        "    model=deployment_name,\n",
        "    messages=[{\"role\": \"system\", \"content\": content},\n",
        "              {\"role\": \"user\", \"content\": prompt}\n",
        "              ]\n",
        ")\n",
        "print(response.choices[0].message)"
      ]
    },
    {
      "cell_type": "code",
      "source": [
        "print(response.choices[0].message.content)"
      ],
      "metadata": {
        "id": "aS9pxTHXDviL",
        "colab": {
          "base_uri": "https://localhost:8080/"
        },
        "outputId": "e48fcf9c-79a2-4967-dc81-68a9d94df84a"
      },
      "execution_count": null,
      "outputs": [
        {
          "output_type": "stream",
          "name": "stdout",
          "text": [
            "Hi John,\n",
            "\n",
            "We've refunded your order for $110.00 USD. Heads up: while the refund is immediate on our end, it can take a few days for your bank to process.\n",
            "Order 4658941864\n",
            "1 Women's Wool Runners - Dapple Grey (Cream Sole) - 9\t$110.00\n",
            "Subtotal\t$110.00\n",
            "Fast Shipping (Delivered in 3-5 Business Days)\t$6.00\n",
            "Total\t$116.00\n",
            "(Paid with Visa...9384)\t$116.00\n",
            "Refund to Visa...9384\t- $110.00\n",
            "\t\t\n",
            "HELP\tCONTACT US\t1.800.123.4567\n",
            "\t\t\t\n",
            "© 2023 Allbirds, Inc.\n",
            "730 Montgomery St. San Francisco, CA 94111\n"
          ]
        }
      ]
    },
    {
      "cell_type": "code",
      "source": [
        "print(body)"
      ],
      "metadata": {
        "colab": {
          "base_uri": "https://localhost:8080/"
        },
        "id": "mGkFMz4sIaDd",
        "outputId": "91c65d18-01f8-4440-a0b2-fc654399b8b8"
      },
      "execution_count": null,
      "outputs": [
        {
          "output_type": "stream",
          "name": "stdout",
          "text": [
            "Hi Rohan,\n",
            "We've refunded your order for $110.00 USD. Heads up: while the refund is immediate on our end, it can take a few days for your bank to process.\n",
            "Order 649594665 <https://www.allbirds.com/11044168/orders/5c3c2ad86013c7f694c91b6e754ca11e/authenticate?key=c8dd6330d211f5f96f23357eab2414e5?utm_source=email-t&amp;utm_medium=email&amp;utm_campaign=orefund> \n",
            " <https://cdn.shopify.com/s/files/1/1104/4168/products/WR3MDPG_SHOE_ANGLE_GLOBAL_MENS_WOOL_RUNNER_DAPPLE_GREY_CREAM_81817d0e-7018-4c5c-9f46-8495e51b6cbd_100x80_crop_left.png?v=1679676212> \t1 Women's Wool Runners - Dapple Grey (Cream Sole) - 9\t$110.00\n",
            "Subtotal\t$110.00\n",
            "Fast Shipping (Delivered in 3-5 Business Days)\t$6.00\n",
            "Total\t$116.00\n",
            "(Paid with Visa...3584)\t$116.00\n",
            "Refund to Visa...3584\t- $110.00\n",
            "\t\t\n",
            "HELP\tCONTACT US\t1.888.963.8944\n",
            "\t\t\t\n",
            "© 2023 Allbirds, Inc.\n",
            "730 Montgomery St. San Francisco, CA 94111\n",
            "\n",
            "\n"
          ]
        }
      ]
    },
    {
      "cell_type": "code",
      "source": [],
      "metadata": {
        "id": "RVrncCq1Jrsx"
      },
      "execution_count": null,
      "outputs": []
    }
  ]
}